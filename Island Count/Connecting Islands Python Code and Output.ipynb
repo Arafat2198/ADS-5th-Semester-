{
 "cells": [
  {
   "cell_type": "code",
   "execution_count": 3,
   "metadata": {},
   "outputs": [
    {
     "data": {
      "text/plain": [
       "'Total Number of Islands are: 5'"
      ]
     },
     "execution_count": 3,
     "metadata": {},
     "output_type": "execute_result"
    }
   ],
   "source": [
    "def isSafe(n,m,i,j): # To check wether the index is safe \n",
    "    if(i<0 or i>=n):\n",
    "        return False\n",
    "    elif(j<0 or j>=m):\n",
    "        return False\n",
    "    else:\n",
    "        return True\n",
    "\n",
    "def delIsland(A,N,M,i,j): # Counts the Number of Islands on the 2d Arrar\n",
    "    \n",
    "    if(isSafe(N,M,i,j) and A[i][j] == 1):\n",
    "        A[i][j] = 0\n",
    "        delIsland(A, N , M , i-1, j-1)\n",
    "        delIsland(A, N, M, i-1, j)\n",
    "        delIsland(A, N, M, i-1, j+1)\n",
    "        delIsland(A, N, M, i, j-1)\n",
    "        delIsland(A, N, M, i, j+1)\n",
    "        delIsland(A, N, M, i+1, j-1)\n",
    "        delIsland(A, N, M, i+1, j)\n",
    "        delIsland(A, N, M, i+1, j+1)\n",
    "\n",
    "def TotalBridge(A,N,M): # TotalBridge Function is used to iterate through each element on the 2d Array\n",
    "    count = 0\n",
    "    for i in range(N):\n",
    "        for j in range(M):\n",
    "            if A[i][j] == 1:\n",
    "                count = count+1\n",
    "                delIsland(A,N,M,i,j)\n",
    "    if(count == 0):\n",
    "        return 0\n",
    "    return 'Total Number of Islands are: '+str(count)\n",
    "\n",
    "\n",
    "\n",
    "A = [[1,1,0,0,0],\n",
    "     [0,1,0,0,1],\n",
    "     [1,0,0,1,1],\n",
    "     [0,0,0,0,0],\n",
    "     [1,0,1,0,1]]\n",
    "\n",
    "N = 5 # Total Number of Rows\n",
    "M = 5 # Total Number of Columns\n",
    "TotalBridge(A,N,M) \n",
    "\n",
    "    "
   ]
  }
 ],
 "metadata": {
  "kernelspec": {
   "display_name": "Python 3",
   "language": "python",
   "name": "python3"
  },
  "language_info": {
   "codemirror_mode": {
    "name": "ipython",
    "version": 3
   },
   "file_extension": ".py",
   "mimetype": "text/x-python",
   "name": "python",
   "nbconvert_exporter": "python",
   "pygments_lexer": "ipython3",
   "version": "3.7.6"
  }
 },
 "nbformat": 4,
 "nbformat_minor": 4
}
